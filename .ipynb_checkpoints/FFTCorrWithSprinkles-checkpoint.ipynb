{
 "cells": [
  {
   "cell_type": "code",
   "execution_count": 98,
   "id": "3da7b7fb",
   "metadata": {},
   "outputs": [],
   "source": [
    "import numpy as np\n",
    "import scipy.fftpack as fft\n",
    "import numpy.random as rnd\n",
    "import matplotlib.pyplot as plt\n",
    "from scipy import signal\n",
    "import pandas as pd"
   ]
  },
  {
   "cell_type": "code",
   "execution_count": 13,
   "id": "41a69507",
   "metadata": {},
   "outputs": [],
   "source": [
    "def get_series_from_log(log):\n",
    "    series = [int(dat) for dat in log[12:-1]]\n",
    "    return series"
   ]
  },
  {
   "cell_type": "code",
   "execution_count": 48,
   "id": "368a34af",
   "metadata": {},
   "outputs": [],
   "source": [
    "def window_shift_noise(signal, window_percent, shift, noise_var):\n",
    "    # zero pad and window the second signal, shift also\n",
    "    sig_a = signal\n",
    "    window_size = int((window_percent)/100*len(sig_a))\n",
    "    window_loc = int((len(sig_a) - window_size)/2)\n",
    "    leading_zeros = np.zeros(window_loc + shift)\n",
    "    trailing_zeros = np.zeros(window_loc - shift)\n",
    "    sig_b = np.append(leading_zeros,sig_a[window_loc:window_loc+window_size])\n",
    "    sig_b = np.append(sig_b, trailing_zeros)\n",
    "    \n",
    "    # Add noise idividually to signal b \n",
    "    var = noise_var\n",
    "    sig_b = sig_b + np.sqrt(var) * rnd.randn(len(sig_b))\n",
    "    return sig_b"
   ]
  },
  {
   "cell_type": "code",
   "execution_count": 49,
   "id": "b5ebdc02",
   "metadata": {},
   "outputs": [],
   "source": [
    "def complexify(sig):\n",
    "    i=[]\n",
    "    q=[]\n",
    "    for j in range(len(sig)):\n",
    "        if j%2 == 0:\n",
    "            i.append(sig[j])\n",
    "        else:\n",
    "            q.append(sig[j])\n",
    "    i = np.array(i)\n",
    "    q = np.array(q)\n",
    "    return (i + 1j*q)"
   ]
  },
  {
   "cell_type": "code",
   "execution_count": 58,
   "id": "24a76c77",
   "metadata": {},
   "outputs": [],
   "source": [
    "def fft_ccor(a, b):\n",
    "    fft_a = fft.fft(a)\n",
    "    fft_b = np.conj((fft.fft(b)))\n",
    "    fft_crosscorr = np.fft.fftshift(np.fft.ifft(fft_a * fft_b))\n",
    "    return fft_crosscorr"
   ]
  },
  {
   "cell_type": "code",
   "execution_count": 68,
   "id": "9df36b6b",
   "metadata": {},
   "outputs": [],
   "source": [
    "def get_corr_axis(corr_array):\n",
    "    half_size = int(len(corr_array)/2)\n",
    "    x = np.arange(-half_size, half_size)\n",
    "    return x\n",
    "    "
   ]
  },
  {
   "cell_type": "markdown",
   "id": "0013960c",
   "metadata": {},
   "source": [
    "# Import the Data"
   ]
  },
  {
   "cell_type": "code",
   "execution_count": 63,
   "id": "bbd2f310",
   "metadata": {},
   "outputs": [],
   "source": [
    "data_filename = \"somesprinkles.txt\"\n",
    "with open(data_filename, 'r+') as datafile: \n",
    "    raw_sprinkles = datafile.readlines()\n",
    "    \n",
    "spkrlr_data = [log.split(',') for log in raw_sprinkles]\n",
    "spkrlr_df = pd.DataFrame(spkrlr_data)"
   ]
  },
  {
   "cell_type": "code",
   "execution_count": 87,
   "id": "cfe2370b",
   "metadata": {},
   "outputs": [
    {
     "data": {
      "text/html": [
       "<div>\n",
       "<style scoped>\n",
       "    .dataframe tbody tr th:only-of-type {\n",
       "        vertical-align: middle;\n",
       "    }\n",
       "\n",
       "    .dataframe tbody tr th {\n",
       "        vertical-align: top;\n",
       "    }\n",
       "\n",
       "    .dataframe thead th {\n",
       "        text-align: right;\n",
       "    }\n",
       "</style>\n",
       "<table border=\"1\" class=\"dataframe\">\n",
       "  <thead>\n",
       "    <tr style=\"text-align: right;\">\n",
       "      <th></th>\n",
       "      <th>0</th>\n",
       "      <th>1</th>\n",
       "      <th>2</th>\n",
       "      <th>3</th>\n",
       "      <th>4</th>\n",
       "      <th>5</th>\n",
       "      <th>6</th>\n",
       "      <th>7</th>\n",
       "      <th>8</th>\n",
       "      <th>9</th>\n",
       "      <th>...</th>\n",
       "      <th>1026</th>\n",
       "      <th>1027</th>\n",
       "      <th>1028</th>\n",
       "      <th>1029</th>\n",
       "      <th>1030</th>\n",
       "      <th>1031</th>\n",
       "      <th>1032</th>\n",
       "      <th>1033</th>\n",
       "      <th>1034</th>\n",
       "      <th>1035</th>\n",
       "    </tr>\n",
       "  </thead>\n",
       "  <tbody>\n",
       "    <tr>\n",
       "      <th>0</th>\n",
       "      <td>#SPRINKLERDATAA</td>\n",
       "      <td>UNKNOWN</td>\n",
       "      <td>63</td>\n",
       "      <td>56.5</td>\n",
       "      <td>FINESTEERING</td>\n",
       "      <td>2128</td>\n",
       "      <td>515219.000</td>\n",
       "      <td>02000020</td>\n",
       "      <td>5a00</td>\n",
       "      <td>32768;00000542</td>\n",
       "      <td>...</td>\n",
       "      <td>-15</td>\n",
       "      <td>-139</td>\n",
       "      <td>-20</td>\n",
       "      <td>-164</td>\n",
       "      <td>-15</td>\n",
       "      <td>-147</td>\n",
       "      <td>-31</td>\n",
       "      <td>-79</td>\n",
       "      <td>-30</td>\n",
       "      <td>-7*ae4fd02d\\n</td>\n",
       "    </tr>\n",
       "    <tr>\n",
       "      <th>1</th>\n",
       "      <td>#SPRINKLERDATAA</td>\n",
       "      <td>UNKNOWN</td>\n",
       "      <td>62</td>\n",
       "      <td>57.0</td>\n",
       "      <td>FINESTEERING</td>\n",
       "      <td>2128</td>\n",
       "      <td>515219.000</td>\n",
       "      <td>02000020</td>\n",
       "      <td>5a00</td>\n",
       "      <td>32768;00000542</td>\n",
       "      <td>...</td>\n",
       "      <td>-5</td>\n",
       "      <td>-51</td>\n",
       "      <td>27</td>\n",
       "      <td>50</td>\n",
       "      <td>-26</td>\n",
       "      <td>56</td>\n",
       "      <td>-93</td>\n",
       "      <td>-9</td>\n",
       "      <td>21</td>\n",
       "      <td>-9*1dfdcb50\\n</td>\n",
       "    </tr>\n",
       "    <tr>\n",
       "      <th>2</th>\n",
       "      <td>#SPRINKLERDATAA</td>\n",
       "      <td>UNKNOWN</td>\n",
       "      <td>61</td>\n",
       "      <td>57.0</td>\n",
       "      <td>FINESTEERING</td>\n",
       "      <td>2128</td>\n",
       "      <td>515219.000</td>\n",
       "      <td>02000020</td>\n",
       "      <td>5a00</td>\n",
       "      <td>32768;00000542</td>\n",
       "      <td>...</td>\n",
       "      <td>60</td>\n",
       "      <td>-114</td>\n",
       "      <td>5</td>\n",
       "      <td>-6</td>\n",
       "      <td>21</td>\n",
       "      <td>-81</td>\n",
       "      <td>2</td>\n",
       "      <td>-166</td>\n",
       "      <td>21</td>\n",
       "      <td>15*98e71507\\n</td>\n",
       "    </tr>\n",
       "    <tr>\n",
       "      <th>3</th>\n",
       "      <td>#SPRINKLERDATAA</td>\n",
       "      <td>UNKNOWN</td>\n",
       "      <td>60</td>\n",
       "      <td>57.0</td>\n",
       "      <td>FINESTEERING</td>\n",
       "      <td>2128</td>\n",
       "      <td>515219.000</td>\n",
       "      <td>02000020</td>\n",
       "      <td>5a00</td>\n",
       "      <td>32768;00000542</td>\n",
       "      <td>...</td>\n",
       "      <td>68</td>\n",
       "      <td>20</td>\n",
       "      <td>-14</td>\n",
       "      <td>-47</td>\n",
       "      <td>16</td>\n",
       "      <td>-37</td>\n",
       "      <td>-21</td>\n",
       "      <td>-45</td>\n",
       "      <td>-46</td>\n",
       "      <td>-70*88f42263\\n</td>\n",
       "    </tr>\n",
       "    <tr>\n",
       "      <th>4</th>\n",
       "      <td>#SPRINKLERDATAA</td>\n",
       "      <td>UNKNOWN</td>\n",
       "      <td>59</td>\n",
       "      <td>57.0</td>\n",
       "      <td>FINESTEERING</td>\n",
       "      <td>2128</td>\n",
       "      <td>515219.000</td>\n",
       "      <td>02000020</td>\n",
       "      <td>5a00</td>\n",
       "      <td>32768;00000542</td>\n",
       "      <td>...</td>\n",
       "      <td>35</td>\n",
       "      <td>-56</td>\n",
       "      <td>38</td>\n",
       "      <td>-34</td>\n",
       "      <td>-32</td>\n",
       "      <td>37</td>\n",
       "      <td>-40</td>\n",
       "      <td>-18</td>\n",
       "      <td>-13</td>\n",
       "      <td>70*02d7a15a\\n</td>\n",
       "    </tr>\n",
       "  </tbody>\n",
       "</table>\n",
       "<p>5 rows × 1036 columns</p>\n",
       "</div>"
      ],
      "text/plain": [
       "              0        1    2     3             4     5           6     \\\n",
       "0  #SPRINKLERDATAA  UNKNOWN   63  56.5  FINESTEERING  2128  515219.000   \n",
       "1  #SPRINKLERDATAA  UNKNOWN   62  57.0  FINESTEERING  2128  515219.000   \n",
       "2  #SPRINKLERDATAA  UNKNOWN   61  57.0  FINESTEERING  2128  515219.000   \n",
       "3  #SPRINKLERDATAA  UNKNOWN   60  57.0  FINESTEERING  2128  515219.000   \n",
       "4  #SPRINKLERDATAA  UNKNOWN   59  57.0  FINESTEERING  2128  515219.000   \n",
       "\n",
       "       7     8               9     ... 1026  1027 1028  1029 1030  1031 1032  \\\n",
       "0  02000020  5a00  32768;00000542  ...  -15  -139  -20  -164  -15  -147  -31   \n",
       "1  02000020  5a00  32768;00000542  ...   -5   -51   27    50  -26    56  -93   \n",
       "2  02000020  5a00  32768;00000542  ...   60  -114    5    -6   21   -81    2   \n",
       "3  02000020  5a00  32768;00000542  ...   68    20  -14   -47   16   -37  -21   \n",
       "4  02000020  5a00  32768;00000542  ...   35   -56   38   -34  -32    37  -40   \n",
       "\n",
       "   1033 1034            1035  \n",
       "0   -79  -30   -7*ae4fd02d\\n  \n",
       "1    -9   21   -9*1dfdcb50\\n  \n",
       "2  -166   21   15*98e71507\\n  \n",
       "3   -45  -46  -70*88f42263\\n  \n",
       "4   -18  -13   70*02d7a15a\\n  \n",
       "\n",
       "[5 rows x 1036 columns]"
      ]
     },
     "execution_count": 87,
     "metadata": {},
     "output_type": "execute_result"
    }
   ],
   "source": [
    "spkrlr_df.head()"
   ]
  },
  {
   "cell_type": "code",
   "execution_count": 74,
   "id": "297b4459",
   "metadata": {
    "scrolled": true
   },
   "outputs": [
    {
     "data": {
      "text/plain": [
       "[<matplotlib.lines.Line2D at 0x7f430b73b810>]"
      ]
     },
     "execution_count": 74,
     "metadata": {},
     "output_type": "execute_result"
    },
    {
     "data": {
      "image/png": "[encoded data removed]",
      "text/plain": [
       "<Figure size 432x288 with 1 Axes>"
      ]
     },
     "metadata": {
      "needs_background": "light"
     },
     "output_type": "display_data"
    }
   ],
   "source": [
    "epochs = spkrlr_df[6].astype(float).unique().tolist()\n",
    "epoch_series = []\n",
    "corr_epoch = epochs[10]\n",
    "for log in spkrlr_data:\n",
    "    if float(log[6]) == corr_epoch:\n",
    "        epoch_series.extend(get_series_from_log(log))\n",
    "        \n",
    "plt.plot(epoch_series)"
   ]
  },
  {
   "cell_type": "markdown",
   "id": "10abb63e",
   "metadata": {},
   "source": [
    "# Correlate with shifted signal"
   ]
  },
  {
   "cell_type": "code",
   "execution_count": 86,
   "id": "5ca32c53",
   "metadata": {},
   "outputs": [
    {
     "data": {
      "text/plain": [
       "<matplotlib.legend.Legend at 0x7f430b2e5a90>"
      ]
     },
     "execution_count": 86,
     "metadata": {},
     "output_type": "execute_result"
    },
    {
     "data": {
      "image/png": "[encoded data removed]",
      "text/plain": [
       "<Figure size 432x288 with 1 Axes>"
      ]
     },
     "metadata": {
      "needs_background": "light"
     },
     "output_type": "display_data"
    }
   ],
   "source": [
    "shift = 100\n",
    "sig_a = complexify(epoch_series)\n",
    "sig_b = window_shift_noise(sig_a, 25, shift, 1.0)\n",
    "\n",
    "#plot the pre-correlation signals\n",
    "plt.figure()\n",
    "plt.title(f'Signals (real) shift {shift} ')\n",
    "plt.plot(sig_a.real)\n",
    "plt.plot(sig_b.real)\n",
    "plt.legend(['Sig_a', 'Sig_b'])"
   ]
  },
  {
   "cell_type": "code",
   "execution_count": 94,
   "id": "412dc4a7",
   "metadata": {},
   "outputs": [
    {
     "data": {
      "text/plain": [
       "[<matplotlib.lines.Line2D at 0x7f430ae81d10>]"
      ]
     },
     "execution_count": 94,
     "metadata": {},
     "output_type": "execute_result"
    },
    {
     "data": {
      "image/png": "[encoded data removed]",
      "text/plain": [
       "<Figure size 432x288 with 1 Axes>"
      ]
     },
     "metadata": {
      "needs_background": "light"
     },
     "output_type": "display_data"
    }
   ],
   "source": [
    "corr = fft_ccor(sig_a, sig_b)\n",
    "x = get_corr_axis(corr)\n",
    "plt.figure()\n",
    "plt.title(f'Correlation')\n",
    "plt.plot(x, corr.real)\n",
    "# plt.xlim([max_shift-10, max_shift+10])\n",
    "# plt.plot(corr.imag)\n",
    "# plt.legend(['Real', 'Imag'])"
   ]
  },
  {
   "cell_type": "code",
   "execution_count": 84,
   "id": "c522ce61",
   "metadata": {},
   "outputs": [
    {
     "name": "stdout",
     "output_type": "stream",
     "text": [
      "Location of max: -100\n"
     ]
    }
   ],
   "source": [
    "max_shift = x[np.argmax(corr)]\n",
    "print(f'Location of max: {max_shift}')"
   ]
  },
  {
   "cell_type": "code",
   "execution_count": 90,
   "id": "287f739c",
   "metadata": {},
   "outputs": [
    {
     "data": {
      "text/plain": [
       "(-110.0, -90.0)"
      ]
     },
     "execution_count": 90,
     "metadata": {},
     "output_type": "execute_result"
    },
    {
     "data": {
      "image/png": "[encoded data removed]",
      "text/plain": [
       "<Figure size 432x288 with 1 Axes>"
      ]
     },
     "metadata": {
      "needs_background": "light"
     },
     "output_type": "display_data"
    }
   ],
   "source": [
    "plt.plot(x, corr.real)\n",
    "plt.xlim([max_shift-10, max_shift+10])"
   ]
  },
  {
   "cell_type": "code",
   "execution_count": null,
   "id": "b2d53808",
   "metadata": {},
   "outputs": [],
   "source": []
  }
 ],
 "metadata": {
  "kernelspec": {
   "display_name": "development",
   "language": "python",
   "name": "development"
  },
  "language_info": {
   "codemirror_mode": {
    "name": "ipython",
    "version": 3
   },
   "file_extension": ".py",
   "mimetype": "text/x-python",
   "name": "python",
   "nbconvert_exporter": "python",
   "pygments_lexer": "ipython3",
   "version": "3.7.9"
  }
 },
 "nbformat": 4,
 "nbformat_minor": 5
}
